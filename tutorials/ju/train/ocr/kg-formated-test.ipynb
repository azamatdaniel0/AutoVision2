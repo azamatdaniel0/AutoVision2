{
 "cells": [
  {
   "cell_type": "markdown",
   "metadata": {},
   "source": [
    "# Train OCR text Detector quick example"
   ]
  },
  {
   "cell_type": "code",
   "execution_count": 2,
   "metadata": {},
   "outputs": [],
   "source": [
    "import os\n",
    "import os\n",
    "os.environ[\"CUDA_DEVICE_ORDER\"]=\"PCI_BUS_ID\"   # see issue #152\n",
    "os.environ[\"CUDA_VISIBLE_DEVICES\"]=\"0\""
   ]
  },
  {
   "cell_type": "code",
   "execution_count": 3,
   "metadata": {},
   "outputs": [],
   "source": [
    "import sys\n",
    "import glob\n",
    "import torch\n",
    "import warnings\n",
    "from datetime import datetime\n",
    "from matplotlib import pyplot as plt\n",
    "from torch import nn\n",
    "from torchvision.models import shufflenet_v2_x2_0\n",
    "\n",
    "warnings.filterwarnings('ignore')\n",
    "\n",
    "# change this property\n",
    "NOMEROFF_NET_DIR = os.path.abspath('../../../../')\n",
    "sys.path.append(NOMEROFF_NET_DIR)\n",
    "\n",
    "from nomeroff_net.data_loaders import TextImageGenerator\n",
    "from nomeroff_net.pipes.number_plate_text_readers.base.ocr import OCR"
   ]
  },
  {
   "cell_type": "code",
   "execution_count": 4,
   "metadata": {},
   "outputs": [],
   "source": [
    "plt.rcParams[\"figure.figsize\"] = (10, 10)"
   ]
  },
  {
   "cell_type": "code",
   "execution_count": 5,
   "metadata": {},
   "outputs": [],
   "source": [
    "%matplotlib inline "
   ]
  },
  {
   "cell_type": "code",
   "execution_count": 6,
   "metadata": {},
   "outputs": [],
   "source": [
    "# auto download latest dataset\n",
    "from nomeroff_net.tools import modelhub\n",
    "\n",
    "# auto download latest dataset\n",
    "info = modelhub.download_dataset_for_model(\"kg\")\n",
    "PATH_TO_DATASET = info[\"dataset_path\"]\n",
    "\n",
    "model_info = modelhub.download_model_by_name(\"kg\")\n",
    "MODEL_PATH = model_info[\"path\"]"
   ]
  },
  {
   "cell_type": "code",
   "execution_count": 7,
   "metadata": {},
   "outputs": [
    {
     "name": "stdout",
     "output_type": "stream",
     "text": [
      "GET ALPHABET\n",
      "Max plate length in \"val\": 8\n",
      "Max plate length in \"train\": 8\n",
      "Max plate length in \"test\": 8\n",
      "Letters train  {'5', 'J', 'E', 'A', 'T', '4', '2', 'W', 'L', 'G', 'F', 'P', 'O', 'Z', 'M', 'K', '6', 'U', 'V', 'I', '8', '3', 'N', 'H', 'X', 'Q', 'R', '9', '1', '0', 'S', 'D', 'Y', 'B', '7', 'C'}\n",
      "Letters val  {'5', 'J', 'E', 'A', 'T', '4', '2', 'L', 'W', 'G', 'F', 'O', 'P', 'Z', 'M', 'K', '6', 'U', 'V', 'I', '8', '3', 'N', 'H', 'X', 'Q', 'R', '9', '1', '0', 'S', 'D', 'Y', 'B', '7', 'C'}\n",
      "Letters test  {'5', 'J', 'E', 'A', 'T', '4', '2', 'W', 'G', 'L', 'F', 'P', 'O', 'Z', 'M', 'K', '6', 'U', 'V', 'I', '8', '3', 'N', 'H', 'X', 'Q', 'R', '9', '1', '0', 'S', 'D', 'Y', 'B', '7', 'C'}\n",
      "Max plate length in train, test and val do match\n",
      "Letters in train, val and test do match\n",
      "Letters: 0 1 2 3 4 5 6 7 8 9 A B C D E F G H I J K L M N O P Q R S T U V W X Y Z\n",
      "START BUILD DATA\n"
     ]
    },
    {
     "name": "stderr",
     "output_type": "stream",
     "text": [
      "100%|██████████| 29204/29204 [00:01<00:00, 18388.51it/s]\n",
      "100%|██████████| 1645/1645 [00:00<00:00, 19660.93it/s]\n",
      "100%|██████████| 1068/1068 [00:00<00:00, 19409.66it/s]\n"
     ]
    },
    {
     "name": "stdout",
     "output_type": "stream",
     "text": [
      "DATA PREPARED\n"
     ]
    },
    {
     "data": {
      "text/plain": [
       "NPOcrNet(\n",
       "  (conv_nn): Sequential(\n",
       "    (0): Conv2d(3, 64, kernel_size=(7, 7), stride=(2, 2), padding=(3, 3), bias=False)\n",
       "    (1): BatchNorm2d(64, eps=1e-05, momentum=0.1, affine=True, track_running_stats=True)\n",
       "    (2): ReLU(inplace=True)\n",
       "    (3): MaxPool2d(kernel_size=3, stride=2, padding=1, dilation=1, ceil_mode=False)\n",
       "    (4): Sequential(\n",
       "      (0): BasicBlock(\n",
       "        (conv1): Conv2d(64, 64, kernel_size=(3, 3), stride=(1, 1), padding=(1, 1), bias=False)\n",
       "        (bn1): BatchNorm2d(64, eps=1e-05, momentum=0.1, affine=True, track_running_stats=True)\n",
       "        (relu): ReLU(inplace=True)\n",
       "        (conv2): Conv2d(64, 64, kernel_size=(3, 3), stride=(1, 1), padding=(1, 1), bias=False)\n",
       "        (bn2): BatchNorm2d(64, eps=1e-05, momentum=0.1, affine=True, track_running_stats=True)\n",
       "      )\n",
       "      (1): BasicBlock(\n",
       "        (conv1): Conv2d(64, 64, kernel_size=(3, 3), stride=(1, 1), padding=(1, 1), bias=False)\n",
       "        (bn1): BatchNorm2d(64, eps=1e-05, momentum=0.1, affine=True, track_running_stats=True)\n",
       "        (relu): ReLU(inplace=True)\n",
       "        (conv2): Conv2d(64, 64, kernel_size=(3, 3), stride=(1, 1), padding=(1, 1), bias=False)\n",
       "        (bn2): BatchNorm2d(64, eps=1e-05, momentum=0.1, affine=True, track_running_stats=True)\n",
       "      )\n",
       "    )\n",
       "    (5): Sequential(\n",
       "      (0): BasicBlock(\n",
       "        (conv1): Conv2d(64, 128, kernel_size=(3, 3), stride=(2, 2), padding=(1, 1), bias=False)\n",
       "        (bn1): BatchNorm2d(128, eps=1e-05, momentum=0.1, affine=True, track_running_stats=True)\n",
       "        (relu): ReLU(inplace=True)\n",
       "        (conv2): Conv2d(128, 128, kernel_size=(3, 3), stride=(1, 1), padding=(1, 1), bias=False)\n",
       "        (bn2): BatchNorm2d(128, eps=1e-05, momentum=0.1, affine=True, track_running_stats=True)\n",
       "        (downsample): Sequential(\n",
       "          (0): Conv2d(64, 128, kernel_size=(1, 1), stride=(2, 2), bias=False)\n",
       "          (1): BatchNorm2d(128, eps=1e-05, momentum=0.1, affine=True, track_running_stats=True)\n",
       "        )\n",
       "      )\n",
       "      (1): BasicBlock(\n",
       "        (conv1): Conv2d(128, 128, kernel_size=(3, 3), stride=(1, 1), padding=(1, 1), bias=False)\n",
       "        (bn1): BatchNorm2d(128, eps=1e-05, momentum=0.1, affine=True, track_running_stats=True)\n",
       "        (relu): ReLU(inplace=True)\n",
       "        (conv2): Conv2d(128, 128, kernel_size=(3, 3), stride=(1, 1), padding=(1, 1), bias=False)\n",
       "        (bn2): BatchNorm2d(128, eps=1e-05, momentum=0.1, affine=True, track_running_stats=True)\n",
       "      )\n",
       "    )\n",
       "    (6): Sequential(\n",
       "      (0): BasicBlock(\n",
       "        (conv1): Conv2d(128, 256, kernel_size=(3, 3), stride=(2, 2), padding=(1, 1), bias=False)\n",
       "        (bn1): BatchNorm2d(256, eps=1e-05, momentum=0.1, affine=True, track_running_stats=True)\n",
       "        (relu): ReLU(inplace=True)\n",
       "        (conv2): Conv2d(256, 256, kernel_size=(3, 3), stride=(1, 1), padding=(1, 1), bias=False)\n",
       "        (bn2): BatchNorm2d(256, eps=1e-05, momentum=0.1, affine=True, track_running_stats=True)\n",
       "        (downsample): Sequential(\n",
       "          (0): Conv2d(128, 256, kernel_size=(1, 1), stride=(2, 2), bias=False)\n",
       "          (1): BatchNorm2d(256, eps=1e-05, momentum=0.1, affine=True, track_running_stats=True)\n",
       "        )\n",
       "      )\n",
       "      (1): BasicBlock(\n",
       "        (conv1): Conv2d(256, 256, kernel_size=(3, 3), stride=(1, 1), padding=(1, 1), bias=False)\n",
       "        (bn1): BatchNorm2d(256, eps=1e-05, momentum=0.1, affine=True, track_running_stats=True)\n",
       "        (relu): ReLU(inplace=True)\n",
       "        (conv2): Conv2d(256, 256, kernel_size=(3, 3), stride=(1, 1), padding=(1, 1), bias=False)\n",
       "        (bn2): BatchNorm2d(256, eps=1e-05, momentum=0.1, affine=True, track_running_stats=True)\n",
       "      )\n",
       "    )\n",
       "  )\n",
       "  (linear1): Linear(in_features=1024, out_features=512, bias=True)\n",
       "  (recurrent_layer1): BlockRNN(\n",
       "    (rnn): LSTM(512, 32, batch_first=True, bidirectional=True)\n",
       "  )\n",
       "  (recurrent_layer2): BlockRNN(\n",
       "    (rnn): LSTM(32, 32, batch_first=True, bidirectional=True)\n",
       "  )\n",
       "  (linear2): Linear(in_features=64, out_features=37, bias=True)\n",
       ")"
      ]
     },
     "execution_count": 7,
     "metadata": {},
     "output_type": "execute_result"
    }
   ],
   "source": [
    "kg = OCR(model_name=\"kg\", letters=model_info[\"letters\"],\n",
    "         linear_size=model_info[\"linear_size\"], max_text_len=model_info[\"max_text_len\"],\n",
    "         height=model_info[\"height\"], width=model_info[\"width\"],\n",
    "         color_channels=model_info[\"color_channels\"],\n",
    "         hidden_size=model_info[\"hidden_size\"], backbone=model_info[\"backbone\"])\n",
    "kg.prepare(PATH_TO_DATASET, use_aug=False, num_workers=1)\n",
    "kg.load()"
   ]
  },
  {
   "cell_type": "code",
   "execution_count": 8,
   "metadata": {
    "scrolled": true
   },
   "outputs": [
    {
     "name": "stdout",
     "output_type": "stream",
     "text": [
      "\n",
      "[INFO] /mnt/data/var/www/nomeroff-net/nomeroff_net/tools/../../data/./dataset/TextDetector/kg/autoriaNumberplateOcrKg-2020-12-31/test/img/14248352_1_2.png\n",
      "Predicted: o2809e \t\t\t True: d2809e\n",
      "\n",
      "[INFO] /mnt/data/var/www/nomeroff-net/nomeroff_net/tools/../../data/./dataset/TextDetector/kg/autoriaNumberplateOcrKg-2020-12-31/test/img/8278291_0_2.png\n",
      "Predicted: e6944d \t\t\t True: e5944d\n",
      "\n",
      "[INFO] /mnt/data/var/www/nomeroff-net/nomeroff_net/tools/../../data/./dataset/TextDetector/kg/autoriaNumberplateOcrKg-2020-12-31/test/img/kg4632_0_2.png\n",
      "Predicted: b5648ah \t\t\t True: b5648ai\n",
      "\n",
      "[INFO] /mnt/data/var/www/nomeroff-net/nomeroff_net/tools/../../data/./dataset/TextDetector/kg/autoriaNumberplateOcrKg-2020-12-31/test/img/12766622_0_2.png\n",
      "Predicted: 06193aaz \t\t\t True: 06193abz\n",
      "\n",
      "[INFO] /mnt/data/var/www/nomeroff-net/nomeroff_net/tools/../../data/./dataset/TextDetector/kg/autoriaNumberplateOcrKg-2020-12-31/test/img/15759009_2_2.png\n",
      "Predicted: 08810abk \t\t\t True: 08810ack\n",
      "\n",
      "[INFO] /mnt/data/var/www/nomeroff-net/nomeroff_net/tools/../../data/./dataset/TextDetector/kg/autoriaNumberplateOcrKg-2020-12-31/test/img/10897809_0_2.png\n",
      "Predicted: t4541d \t\t\t True: t4641d\n",
      "\n",
      "[INFO] /mnt/data/var/www/nomeroff-net/nomeroff_net/tools/../../data/./dataset/TextDetector/kg/autoriaNumberplateOcrKg-2020-12-31/test/img/8749642_0_2.png\n",
      "Predicted: b6098as \t\t\t True: b6096as\n",
      "\n",
      "[INFO] /mnt/data/var/www/nomeroff-net/nomeroff_net/tools/../../data/./dataset/TextDetector/kg/autoriaNumberplateOcrKg-2020-12-31/test/img/kg4297_0_2.png\n",
      "Predicted: b77q \t\t\t True: b7717a\n",
      "\n",
      "[INFO] /mnt/data/var/www/nomeroff-net/nomeroff_net/tools/../../data/./dataset/TextDetector/kg/autoriaNumberplateOcrKg-2020-12-31/test/img/14266469_0_2.png\n",
      "Predicted: b4020v \t\t\t True: b4820v\n",
      "\n",
      "[INFO] /mnt/data/var/www/nomeroff-net/nomeroff_net/tools/../../data/./dataset/TextDetector/kg/autoriaNumberplateOcrKg-2020-12-31/test/img/14516252_0_2.png\n",
      "Predicted: 04918acm \t\t\t True: 04918acy\n",
      "\n",
      "[INFO] /mnt/data/var/www/nomeroff-net/nomeroff_net/tools/../../data/./dataset/TextDetector/kg/autoriaNumberplateOcrKg-2020-12-31/test/img/13300203_1_2.png\n",
      "Predicted: 01531aah \t\t\t True: 03531aah\n",
      "\n",
      "[INFO] /mnt/data/var/www/nomeroff-net/nomeroff_net/tools/../../data/./dataset/TextDetector/kg/autoriaNumberplateOcrKg-2020-12-31/test/img/11656452_0_2.png\n",
      "Predicted: s7755az \t\t\t True: s7766az\n",
      "\n",
      "[INFO] /mnt/data/var/www/nomeroff-net/nomeroff_net/tools/../../data/./dataset/TextDetector/kg/autoriaNumberplateOcrKg-2020-12-31/test/img/11575983_1_0.png\n",
      "Predicted: o0747o \t\t\t True: o0747oo\n",
      "\n",
      "[INFO] /mnt/data/var/www/nomeroff-net/nomeroff_net/tools/../../data/./dataset/TextDetector/kg/autoriaNumberplateOcrKg-2020-12-31/test/img/8961464_1_2.png\n",
      "Predicted: s107mm \t\t\t True: s107vkm\n",
      "\n",
      "[INFO] /mnt/data/var/www/nomeroff-net/nomeroff_net/tools/../../data/./dataset/TextDetector/kg/autoriaNumberplateOcrKg-2020-12-31/test/img/12694585_0_2.png\n",
      "Predicted: 01118afa \t\t\t True: 01118aea\n",
      "\n",
      "[INFO] /mnt/data/var/www/nomeroff-net/nomeroff_net/tools/../../data/./dataset/TextDetector/kg/autoriaNumberplateOcrKg-2020-12-31/test/img/8918529_0_2.png\n",
      "Predicted: 05284c \t\t\t True: d5284c\n",
      "\n",
      "[INFO] /mnt/data/var/www/nomeroff-net/nomeroff_net/tools/../../data/./dataset/TextDetector/kg/autoriaNumberplateOcrKg-2020-12-31/test/img/10971326_0_2.png\n",
      "Predicted: 0694aar \t\t\t True: 06943aar\n",
      "\n",
      "[INFO] /mnt/data/var/www/nomeroff-net/nomeroff_net/tools/../../data/./dataset/TextDetector/kg/autoriaNumberplateOcrKg-2020-12-31/test/img/13844523_0_2.png\n",
      "Predicted: b7590aq \t\t\t True: b7590ao\n",
      "\n",
      "[INFO] /mnt/data/var/www/nomeroff-net/nomeroff_net/tools/../../data/./dataset/TextDetector/kg/autoriaNumberplateOcrKg-2020-12-31/test/img/kg2054_0_2.png\n",
      "Predicted: s133az \t\t\t True: s1333az\n",
      "\n",
      "[INFO] /mnt/data/var/www/nomeroff-net/nomeroff_net/tools/../../data/./dataset/TextDetector/kg/autoriaNumberplateOcrKg-2020-12-31/test/img/kg1541_0_2.png\n",
      "Predicted: b0008r \t\t\t True: s0008r\n",
      "\n",
      "[INFO] /mnt/data/var/www/nomeroff-net/nomeroff_net/tools/../../data/./dataset/TextDetector/kg/autoriaNumberplateOcrKg-2020-12-31/test/img/12414939_0_2.png\n",
      "Predicted: 06164aah \t\t\t True: 06164aau\n",
      "\n",
      "[INFO] /mnt/data/var/www/nomeroff-net/nomeroff_net/tools/../../data/./dataset/TextDetector/kg/autoriaNumberplateOcrKg-2020-12-31/test/img/9652864_2_2.png\n",
      "Predicted: b8666z \t\t\t True: 8662\n",
      "\n",
      "[INFO] /mnt/data/var/www/nomeroff-net/nomeroff_net/tools/../../data/./dataset/TextDetector/kg/autoriaNumberplateOcrKg-2020-12-31/test/img/11430307_0_2.png\n",
      "Predicted: s955ae \t\t\t True: s9555ae\n",
      "\n",
      "[INFO] /mnt/data/var/www/nomeroff-net/nomeroff_net/tools/../../data/./dataset/TextDetector/kg/autoriaNumberplateOcrKg-2020-12-31/test/img/14895832_0_2.png\n",
      "Predicted: 0155aab \t\t\t True: 01555aab\n",
      "\n",
      "[INFO] /mnt/data/var/www/nomeroff-net/nomeroff_net/tools/../../data/./dataset/TextDetector/kg/autoriaNumberplateOcrKg-2020-12-31/test/img/10839689_0_2.png\n",
      "Predicted: 15541ib \t\t\t True: 1554ib\n",
      "\n",
      "[INFO] /mnt/data/var/www/nomeroff-net/nomeroff_net/tools/../../data/./dataset/TextDetector/kg/autoriaNumberplateOcrKg-2020-12-31/test/img/kg183_2_0.png\n",
      "Predicted: s4055ab \t\t\t True: s4095ab\n",
      "Testing Accuracy:  0.9756554307116105 in 1068\n"
     ]
    },
    {
     "data": {
      "text/plain": [
       "0.9756554307116105"
      ]
     },
     "execution_count": 8,
     "metadata": {},
     "output_type": "execute_result"
    }
   ],
   "source": [
    "kg.test_acc(verbose=True)"
   ]
  },
  {
   "cell_type": "code",
   "execution_count": 9,
   "metadata": {
    "scrolled": false
   },
   "outputs": [
    {
     "name": "stdout",
     "output_type": "stream",
     "text": [
      "###@@\n"
     ]
    },
    {
     "name": "stderr",
     "output_type": "stream",
     "text": [
      "100%|██████████| 1068/1068 [00:00<00:00, 9940.01it/s]\n"
     ]
    },
    {
     "name": "stdout",
     "output_type": "stream",
     "text": [
      "Validaton Accuracy:  1.0 in 11\n",
      "#####@@\n"
     ]
    },
    {
     "name": "stderr",
     "output_type": "stream",
     "text": [
      "100%|██████████| 1068/1068 [00:00<00:00, 7856.11it/s]\n"
     ]
    },
    {
     "name": "stdout",
     "output_type": "stream",
     "text": [
      "Validaton Accuracy:  1.0 in 15\n",
      "@####@@\n"
     ]
    },
    {
     "name": "stderr",
     "output_type": "stream",
     "text": [
      "100%|██████████| 1068/1068 [00:02<00:00, 392.75it/s]\n"
     ]
    },
    {
     "name": "stdout",
     "output_type": "stream",
     "text": [
      "Validaton Accuracy:  0.9804878048780488 in 410\n",
      "@####@\n"
     ]
    },
    {
     "name": "stderr",
     "output_type": "stream",
     "text": [
      "100%|██████████| 1068/1068 [00:01<00:00, 704.36it/s]\n"
     ]
    },
    {
     "name": "stdout",
     "output_type": "stream",
     "text": [
      "Validaton Accuracy:  0.9694323144104804 in 229\n",
      "####\n"
     ]
    },
    {
     "name": "stderr",
     "output_type": "stream",
     "text": [
      "100%|██████████| 1068/1068 [00:00<00:00, 52389.56it/s]\n"
     ]
    },
    {
     "name": "stdout",
     "output_type": "stream",
     "text": [
      "Validaton Accuracy:  0.0 in 1\n",
      "#####@@@\n"
     ]
    },
    {
     "name": "stderr",
     "output_type": "stream",
     "text": [
      "100%|██████████| 1068/1068 [00:02<00:00, 521.37it/s]\n"
     ]
    },
    {
     "name": "stdout",
     "output_type": "stream",
     "text": [
      "Validaton Accuracy:  0.9757575757575757 in 330\n",
      "@###@@@\n"
     ]
    },
    {
     "name": "stderr",
     "output_type": "stream",
     "text": [
      "100%|██████████| 1068/1068 [00:00<00:00, 36210.70it/s]\n"
     ]
    },
    {
     "name": "stdout",
     "output_type": "stream",
     "text": [
      "Validaton Accuracy:  0.5 in 2\n",
      "####@@\n"
     ]
    },
    {
     "name": "stderr",
     "output_type": "stream",
     "text": [
      "100%|██████████| 1068/1068 [00:00<00:00, 2189.31it/s]\n"
     ]
    },
    {
     "name": "stdout",
     "output_type": "stream",
     "text": [
      "Validaton Accuracy:  0.9857142857142858 in 70\n"
     ]
    }
   ],
   "source": [
    "for dataset_by_np_format in glob.glob(os.path.join(info[\"dataset_path\"], \"test_by_np_format/*\")):\n",
    "    print(os.path.basename(dataset_by_np_format))\n",
    "    image_generator = TextImageGenerator(\n",
    "            dataset_by_np_format,\n",
    "            kg.letters,\n",
    "            kg.max_text_len,\n",
    "            img_w=kg.width,\n",
    "            img_h=kg.height,\n",
    "            batch_size=kg.batch_size,\n",
    "            with_aug=False)\n",
    "    acc = kg.acc_calc(image_generator, verbose=False)\n",
    "    print('Validaton Accuracy: ', acc, \"in\", len(image_generator))"
   ]
  },
  {
   "cell_type": "code",
   "execution_count": null,
   "metadata": {},
   "outputs": [],
   "source": []
  },
  {
   "cell_type": "code",
   "execution_count": null,
   "metadata": {},
   "outputs": [],
   "source": []
  }
 ],
 "metadata": {
  "kernelspec": {
   "display_name": "Python 3",
   "language": "python",
   "name": "python3"
  },
  "language_info": {
   "codemirror_mode": {
    "name": "ipython",
    "version": 3
   },
   "file_extension": ".py",
   "mimetype": "text/x-python",
   "name": "python",
   "nbconvert_exporter": "python",
   "pygments_lexer": "ipython3",
   "version": "3.8.10"
  }
 },
 "nbformat": 4,
 "nbformat_minor": 2
}
